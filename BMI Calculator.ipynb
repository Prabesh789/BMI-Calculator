{
 "cells": [
  {
   "cell_type": "markdown",
   "id": "633a6058-4714-446a-b334-5230cb4f35f8",
   "metadata": {},
   "source": [
    "# BMI Calculator Using Python"
   ]
  },
  {
   "cell_type": "code",
   "execution_count": 11,
   "id": "9791fbc9-8442-4c8d-b874-16a654b28279",
   "metadata": {
    "scrolled": true
   },
   "outputs": [
    {
     "name": "stdin",
     "output_type": "stream",
     "text": [
      "Enter your height in inches:  70\n",
      "Enter your weight in pound:  170\n"
     ]
    },
    {
     "name": "stdout",
     "output_type": "stream",
     "text": [
      "Your BMI: 24.389795918367348\n"
     ]
    }
   ],
   "source": [
    "# Test\n",
    "height = int(input(\"Enter your height in inches: \"))\n",
    "weight = int(input(\"Enter your weight in pound: \"))\n",
    "\n",
    "BMI = (weight * 703) / (height * height)\n",
    "print(\"Your BMI: \" + str(BMI))"
   ]
  },
  {
   "cell_type": "code",
   "execution_count": 21,
   "id": "b2f56ba9-f26e-486c-b856-a8ac3b9727d2",
   "metadata": {},
   "outputs": [],
   "source": [
    "import re"
   ]
  },
  {
   "cell_type": "code",
   "execution_count": 29,
   "id": "f36a9716-4825-41f9-a548-4835a2d031f3",
   "metadata": {},
   "outputs": [],
   "source": [
    "# Function to validate name\n",
    "def get_valid_name():\n",
    "    while True:\n",
    "        name = input(\"Enter your full name: \")\n",
    "        if re.fullmatch(r\"[A-Za-z ]+\", name):  # Ensures name contains only letters and spaces\n",
    "            return name\n",
    "        else:\n",
    "            print(\"Invalid name !.\\nPlease enter letters only.\")"
   ]
  },
  {
   "cell_type": "code",
   "execution_count": 23,
   "id": "94414ae6-c078-4b37-8ef6-9892e5796d10",
   "metadata": {},
   "outputs": [],
   "source": [
    "# Function to validate weight and height as integers\n",
    "def get_valid_integer(prompt):\n",
    "    while True:\n",
    "        try:\n",
    "            value = int(input(prompt))\n",
    "            if value > 0:  # Ensure the value is positive\n",
    "                return value\n",
    "            else:\n",
    "                print(\"Please enter a positive number.\")\n",
    "        except ValueError:\n",
    "            print(\"Invalid input. Please enter a valid number.\")"
   ]
  },
  {
   "cell_type": "code",
   "execution_count": 34,
   "id": "121e40f1-cee4-4845-b920-371060b5297f",
   "metadata": {},
   "outputs": [
    {
     "name": "stdin",
     "output_type": "stream",
     "text": [
      "Enter your full name:  wer234\n"
     ]
    },
    {
     "name": "stdout",
     "output_type": "stream",
     "text": [
      "Invalid name !.\n",
      "Please enter letters only.\n"
     ]
    },
    {
     "name": "stdin",
     "output_type": "stream",
     "text": [
      "Enter your full name:  Prabesh Rai\n",
      "Enter your weight in pounds:  169\n",
      "Enter your height in inches:  70\n"
     ]
    },
    {
     "name": "stdout",
     "output_type": "stream",
     "text": [
      "Your BMI: 24.25\n",
      "Prabesh Rai, you are normal weight.\n"
     ]
    }
   ],
   "source": [
    "# Actual logic\n",
    "name = get_valid_name()\n",
    "weight = get_valid_integer(\"Enter your weight in pounds: \")\n",
    "height = get_valid_integer(\"Enter your height in inches: \")\n",
    "\n",
    "BMI = (weight * 703) / (height * height)\n",
    "print(\"Your BMI: \" + str(round(BMI, 2)))\n",
    "\n",
    "if BMI > 0:\n",
    "    if BMI < 18.5:\n",
    "        print(name + \", you are underweight.\")\n",
    "    elif BMI <= 24.9:\n",
    "        print(name + \", you are normal weight.\")\n",
    "    elif BMI <= 29.9:\n",
    "        print(name + \", you are overweight.\")\n",
    "    elif BMI <= 34.9:\n",
    "        print(name + \", you are obese.\")\n",
    "    elif BMI <= 39.9:\n",
    "        print(name + \", you are severely obese.\")\n",
    "    else:\n",
    "        print(name + \", you are morbidly obese.\")\n",
    "else:\n",
    "    print(\"Enter valid input.\")"
   ]
  },
  {
   "cell_type": "code",
   "execution_count": null,
   "id": "2e094b84-e825-4ed6-bbea-39914851242f",
   "metadata": {},
   "outputs": [],
   "source": []
  }
 ],
 "metadata": {
  "kernelspec": {
   "display_name": "Python 3 (ipykernel)",
   "language": "python",
   "name": "python3"
  },
  "language_info": {
   "codemirror_mode": {
    "name": "ipython",
    "version": 3
   },
   "file_extension": ".py",
   "mimetype": "text/x-python",
   "name": "python",
   "nbconvert_exporter": "python",
   "pygments_lexer": "ipython3",
   "version": "3.12.0"
  }
 },
 "nbformat": 4,
 "nbformat_minor": 5
}
